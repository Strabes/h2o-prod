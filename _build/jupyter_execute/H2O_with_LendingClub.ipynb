{
 "cells": [
  {
   "cell_type": "markdown",
   "metadata": {},
   "source": [
    "# Fit an H2O GBM on the Lending Club data"
   ]
  },
  {
   "cell_type": "markdown",
   "metadata": {},
   "source": [
    "### Imports"
   ]
  },
  {
   "cell_type": "code",
   "execution_count": 1,
   "metadata": {},
   "outputs": [],
   "source": [
    "import pandas as pd\n",
    "import numpy as np\n",
    "import random, time, os, pickle\n",
    "\n",
    "import matplotlib.pyplot as plt\n",
    "from feature_engine import categorical_encoders as ce\n",
    "from feature_engine import discretisers as dsc\n",
    "from feature_engine import missing_data_imputers as mdi\n",
    "from feature_engine import feature_selection as fs\n",
    "from sklearn.pipeline import Pipeline as pipe\n",
    "\n",
    "import h2o\n",
    "from h2o.estimators import H2OXGBoostEstimator, H2OGradientBoostingEstimator\n",
    "from h2o.grid.grid_search import H2OGridSearch\n",
    "\n",
    "import warnings\n",
    "warnings.filterwarnings('ignore')\n",
    "pd.set_option('display.max_columns', None)\n",
    "\n",
    "%matplotlib inline"
   ]
  },
  {
   "cell_type": "markdown",
   "metadata": {},
   "source": [
    "### Read data into pandas and fix date columns"
   ]
  },
  {
   "cell_type": "code",
   "execution_count": 2,
   "metadata": {},
   "outputs": [],
   "source": [
    "df = pd.read_csv(\"../data/lending_club_loan_two.csv\")"
   ]
  },
  {
   "cell_type": "code",
   "execution_count": 3,
   "metadata": {},
   "outputs": [],
   "source": [
    "## Fix date columns:\n",
    "dt_cols = ['issue_d','earliest_cr_line']\n",
    "\n",
    "df.loc[:,dt_cols] = df.loc[:,dt_cols] \\\n",
    "  .applymap(lambda x: np.nan if x in ['null','NULL',''] else x) \\\n",
    "  .apply(lambda x: pd.to_datetime(x,format = \"%b-%Y\"))"
   ]
  },
  {
   "cell_type": "markdown",
   "metadata": {},
   "source": [
    "### Split into train and test"
   ]
  },
  {
   "cell_type": "code",
   "execution_count": 4,
   "metadata": {},
   "outputs": [],
   "source": [
    "p_trn = 0.8\n",
    "n = df.shape[0]\n",
    "\n",
    "df = df.sample(frac=1,random_state=1).reset_index(drop=True)\n",
    "\n",
    "df_train = df.iloc[:int(n*p_trn),:].copy()\n",
    "df_test = df.iloc[int(n*p_trn):,:].copy()"
   ]
  },
  {
   "cell_type": "code",
   "execution_count": 5,
   "metadata": {},
   "outputs": [
    {
     "data": {
      "text/html": [
       "<div>\n",
       "<style scoped>\n",
       "    .dataframe tbody tr th:only-of-type {\n",
       "        vertical-align: middle;\n",
       "    }\n",
       "\n",
       "    .dataframe tbody tr th {\n",
       "        vertical-align: top;\n",
       "    }\n",
       "\n",
       "    .dataframe thead th {\n",
       "        text-align: right;\n",
       "    }\n",
       "</style>\n",
       "<table border=\"1\" class=\"dataframe\">\n",
       "  <thead>\n",
       "    <tr style=\"text-align: right;\">\n",
       "      <th></th>\n",
       "      <th>loan_amnt</th>\n",
       "      <th>term</th>\n",
       "      <th>int_rate</th>\n",
       "      <th>installment</th>\n",
       "      <th>grade</th>\n",
       "      <th>sub_grade</th>\n",
       "      <th>emp_title</th>\n",
       "      <th>emp_length</th>\n",
       "      <th>home_ownership</th>\n",
       "      <th>annual_inc</th>\n",
       "      <th>verification_status</th>\n",
       "      <th>issue_d</th>\n",
       "      <th>loan_status</th>\n",
       "      <th>purpose</th>\n",
       "      <th>title</th>\n",
       "      <th>dti</th>\n",
       "      <th>earliest_cr_line</th>\n",
       "      <th>open_acc</th>\n",
       "      <th>pub_rec</th>\n",
       "      <th>revol_bal</th>\n",
       "      <th>revol_util</th>\n",
       "      <th>total_acc</th>\n",
       "      <th>initial_list_status</th>\n",
       "      <th>application_type</th>\n",
       "      <th>mort_acc</th>\n",
       "      <th>pub_rec_bankruptcies</th>\n",
       "      <th>address</th>\n",
       "    </tr>\n",
       "  </thead>\n",
       "  <tbody>\n",
       "    <tr>\n",
       "      <th>0</th>\n",
       "      <td>8000.0</td>\n",
       "      <td>36 months</td>\n",
       "      <td>16.20</td>\n",
       "      <td>282.05</td>\n",
       "      <td>C</td>\n",
       "      <td>C4</td>\n",
       "      <td>Counselor</td>\n",
       "      <td>7 years</td>\n",
       "      <td>RENT</td>\n",
       "      <td>50000.0</td>\n",
       "      <td>Verified</td>\n",
       "      <td>2013-10-01</td>\n",
       "      <td>Fully Paid</td>\n",
       "      <td>debt_consolidation</td>\n",
       "      <td>Consolidation loan</td>\n",
       "      <td>17.64</td>\n",
       "      <td>2000-11-01</td>\n",
       "      <td>13.0</td>\n",
       "      <td>1.0</td>\n",
       "      <td>9034.0</td>\n",
       "      <td>68.4</td>\n",
       "      <td>30.0</td>\n",
       "      <td>w</td>\n",
       "      <td>INDIVIDUAL</td>\n",
       "      <td>0.0</td>\n",
       "      <td>1.0</td>\n",
       "      <td>Unit 9587 Box 8878\\r\\nDPO AA 29597</td>\n",
       "    </tr>\n",
       "    <tr>\n",
       "      <th>1</th>\n",
       "      <td>9000.0</td>\n",
       "      <td>36 months</td>\n",
       "      <td>14.33</td>\n",
       "      <td>309.05</td>\n",
       "      <td>C</td>\n",
       "      <td>C1</td>\n",
       "      <td>American Portfolios</td>\n",
       "      <td>4 years</td>\n",
       "      <td>RENT</td>\n",
       "      <td>40000.0</td>\n",
       "      <td>Not Verified</td>\n",
       "      <td>2012-09-01</td>\n",
       "      <td>Fully Paid</td>\n",
       "      <td>credit_card</td>\n",
       "      <td>CC Refinance Loan</td>\n",
       "      <td>15.87</td>\n",
       "      <td>1980-05-01</td>\n",
       "      <td>13.0</td>\n",
       "      <td>0.0</td>\n",
       "      <td>14593.0</td>\n",
       "      <td>71.2</td>\n",
       "      <td>30.0</td>\n",
       "      <td>f</td>\n",
       "      <td>INDIVIDUAL</td>\n",
       "      <td>0.0</td>\n",
       "      <td>0.0</td>\n",
       "      <td>314 Mercer Route\\r\\nWest Kathryn, TX 48052</td>\n",
       "    </tr>\n",
       "    <tr>\n",
       "      <th>2</th>\n",
       "      <td>12000.0</td>\n",
       "      <td>60 months</td>\n",
       "      <td>12.49</td>\n",
       "      <td>269.92</td>\n",
       "      <td>B</td>\n",
       "      <td>B5</td>\n",
       "      <td>Senior Analyst</td>\n",
       "      <td>4 years</td>\n",
       "      <td>MORTGAGE</td>\n",
       "      <td>73000.0</td>\n",
       "      <td>Not Verified</td>\n",
       "      <td>2014-07-01</td>\n",
       "      <td>Fully Paid</td>\n",
       "      <td>credit_card</td>\n",
       "      <td>Credit card refinancing</td>\n",
       "      <td>28.63</td>\n",
       "      <td>2001-08-01</td>\n",
       "      <td>11.0</td>\n",
       "      <td>0.0</td>\n",
       "      <td>18633.0</td>\n",
       "      <td>62.1</td>\n",
       "      <td>60.0</td>\n",
       "      <td>w</td>\n",
       "      <td>INDIVIDUAL</td>\n",
       "      <td>2.0</td>\n",
       "      <td>0.0</td>\n",
       "      <td>5389 Brandi Springs\\r\\nAshleymouth, LA 29597</td>\n",
       "    </tr>\n",
       "    <tr>\n",
       "      <th>3</th>\n",
       "      <td>20000.0</td>\n",
       "      <td>36 months</td>\n",
       "      <td>6.62</td>\n",
       "      <td>614.08</td>\n",
       "      <td>A</td>\n",
       "      <td>A2</td>\n",
       "      <td>QA Manager</td>\n",
       "      <td>9 years</td>\n",
       "      <td>MORTGAGE</td>\n",
       "      <td>110000.0</td>\n",
       "      <td>Source Verified</td>\n",
       "      <td>2013-12-01</td>\n",
       "      <td>Fully Paid</td>\n",
       "      <td>debt_consolidation</td>\n",
       "      <td>Debt Freedom</td>\n",
       "      <td>15.45</td>\n",
       "      <td>1993-10-01</td>\n",
       "      <td>8.0</td>\n",
       "      <td>0.0</td>\n",
       "      <td>5275.0</td>\n",
       "      <td>38.2</td>\n",
       "      <td>24.0</td>\n",
       "      <td>f</td>\n",
       "      <td>INDIVIDUAL</td>\n",
       "      <td>2.0</td>\n",
       "      <td>0.0</td>\n",
       "      <td>166 Lopez Key Apt. 864\\r\\nSouth Angelaland, CO...</td>\n",
       "    </tr>\n",
       "    <tr>\n",
       "      <th>4</th>\n",
       "      <td>13600.0</td>\n",
       "      <td>36 months</td>\n",
       "      <td>7.29</td>\n",
       "      <td>421.74</td>\n",
       "      <td>A</td>\n",
       "      <td>A4</td>\n",
       "      <td>Caxton Associates</td>\n",
       "      <td>7 years</td>\n",
       "      <td>MORTGAGE</td>\n",
       "      <td>115000.0</td>\n",
       "      <td>Source Verified</td>\n",
       "      <td>2011-02-01</td>\n",
       "      <td>Fully Paid</td>\n",
       "      <td>home_improvement</td>\n",
       "      <td>Home Improvement Loan</td>\n",
       "      <td>6.84</td>\n",
       "      <td>1996-10-01</td>\n",
       "      <td>9.0</td>\n",
       "      <td>0.0</td>\n",
       "      <td>191.0</td>\n",
       "      <td>0.8</td>\n",
       "      <td>17.0</td>\n",
       "      <td>f</td>\n",
       "      <td>INDIVIDUAL</td>\n",
       "      <td>NaN</td>\n",
       "      <td>0.0</td>\n",
       "      <td>48033 Xavier Squares Suite 893\\r\\nSouth Rubenb...</td>\n",
       "    </tr>\n",
       "  </tbody>\n",
       "</table>\n",
       "</div>"
      ],
      "text/plain": [
       "   loan_amnt        term  int_rate  installment grade sub_grade  \\\n",
       "0     8000.0   36 months     16.20       282.05     C        C4   \n",
       "1     9000.0   36 months     14.33       309.05     C        C1   \n",
       "2    12000.0   60 months     12.49       269.92     B        B5   \n",
       "3    20000.0   36 months      6.62       614.08     A        A2   \n",
       "4    13600.0   36 months      7.29       421.74     A        A4   \n",
       "\n",
       "             emp_title emp_length home_ownership  annual_inc  \\\n",
       "0            Counselor    7 years           RENT     50000.0   \n",
       "1  American Portfolios    4 years           RENT     40000.0   \n",
       "2       Senior Analyst    4 years       MORTGAGE     73000.0   \n",
       "3           QA Manager    9 years       MORTGAGE    110000.0   \n",
       "4    Caxton Associates    7 years       MORTGAGE    115000.0   \n",
       "\n",
       "  verification_status    issue_d loan_status             purpose  \\\n",
       "0            Verified 2013-10-01  Fully Paid  debt_consolidation   \n",
       "1        Not Verified 2012-09-01  Fully Paid         credit_card   \n",
       "2        Not Verified 2014-07-01  Fully Paid         credit_card   \n",
       "3     Source Verified 2013-12-01  Fully Paid  debt_consolidation   \n",
       "4     Source Verified 2011-02-01  Fully Paid    home_improvement   \n",
       "\n",
       "                     title    dti earliest_cr_line  open_acc  pub_rec  \\\n",
       "0       Consolidation loan  17.64       2000-11-01      13.0      1.0   \n",
       "1        CC Refinance Loan  15.87       1980-05-01      13.0      0.0   \n",
       "2  Credit card refinancing  28.63       2001-08-01      11.0      0.0   \n",
       "3             Debt Freedom  15.45       1993-10-01       8.0      0.0   \n",
       "4    Home Improvement Loan   6.84       1996-10-01       9.0      0.0   \n",
       "\n",
       "   revol_bal  revol_util  total_acc initial_list_status application_type  \\\n",
       "0     9034.0        68.4       30.0                   w       INDIVIDUAL   \n",
       "1    14593.0        71.2       30.0                   f       INDIVIDUAL   \n",
       "2    18633.0        62.1       60.0                   w       INDIVIDUAL   \n",
       "3     5275.0        38.2       24.0                   f       INDIVIDUAL   \n",
       "4      191.0         0.8       17.0                   f       INDIVIDUAL   \n",
       "\n",
       "   mort_acc  pub_rec_bankruptcies  \\\n",
       "0       0.0                   1.0   \n",
       "1       0.0                   0.0   \n",
       "2       2.0                   0.0   \n",
       "3       2.0                   0.0   \n",
       "4       NaN                   0.0   \n",
       "\n",
       "                                             address  \n",
       "0                 Unit 9587 Box 8878\\r\\nDPO AA 29597  \n",
       "1         314 Mercer Route\\r\\nWest Kathryn, TX 48052  \n",
       "2       5389 Brandi Springs\\r\\nAshleymouth, LA 29597  \n",
       "3  166 Lopez Key Apt. 864\\r\\nSouth Angelaland, CO...  \n",
       "4  48033 Xavier Squares Suite 893\\r\\nSouth Rubenb...  "
      ]
     },
     "execution_count": 5,
     "metadata": {},
     "output_type": "execute_result"
    }
   ],
   "source": [
    "df_train.head(5)"
   ]
  },
  {
   "cell_type": "markdown",
   "metadata": {},
   "source": [
    "## Verify data types"
   ]
  },
  {
   "cell_type": "markdown",
   "metadata": {},
   "source": [
    "### Make sure all columns are of the correct data type"
   ]
  },
  {
   "cell_type": "code",
   "execution_count": 6,
   "metadata": {},
   "outputs": [],
   "source": [
    "dtype_dict = df_train.dtypes.to_dict()"
   ]
  },
  {
   "cell_type": "code",
   "execution_count": 7,
   "metadata": {},
   "outputs": [
    {
     "name": "stdout",
     "output_type": "stream",
     "text": [
      "Numeric columns: annual_inc, dti, installment, int_rate, loan_amnt, mort_acc, open_acc, pub_rec, pub_rec_bankruptcies, revol_bal, revol_util, total_acc\n"
     ]
    }
   ],
   "source": [
    "numeric_cols = [k for k,v in dtype_dict.items() if pd.api.types.is_numeric_dtype(v)]\n",
    "numeric_cols.sort()\n",
    "\n",
    "print(\"Numeric columns: \" + \", \".join(numeric_cols))"
   ]
  },
  {
   "cell_type": "code",
   "execution_count": 8,
   "metadata": {},
   "outputs": [
    {
     "name": "stdout",
     "output_type": "stream",
     "text": [
      "Object columns: address, application_type, emp_length, emp_title, grade, home_ownership, initial_list_status, loan_status, purpose, sub_grade, term, title, verification_status\n"
     ]
    }
   ],
   "source": [
    "object_cols = [k for k,v in dtype_dict.items() if pd.api.types.is_object_dtype(v)]\n",
    "object_cols.sort()\n",
    "\n",
    "print(\"Object columns: \" + \", \".join(object_cols))"
   ]
  },
  {
   "cell_type": "code",
   "execution_count": 9,
   "metadata": {},
   "outputs": [
    {
     "name": "stdout",
     "output_type": "stream",
     "text": [
      "Datetime columns: earliest_cr_line, issue_d\n"
     ]
    }
   ],
   "source": [
    "datetime_cols = [k for k,v in dtype_dict.items() if pd.api.types.is_datetime64_any_dtype(v)]\n",
    "datetime_cols.sort()\n",
    "\n",
    "print(\"Datetime columns: \" + \", \".join(datetime_cols))"
   ]
  },
  {
   "cell_type": "code",
   "execution_count": 10,
   "metadata": {},
   "outputs": [
    {
     "name": "stdout",
     "output_type": "stream",
     "text": [
      "Columns not accounted for: \n"
     ]
    }
   ],
   "source": [
    "other_cols = [c for c in df.columns if c not in numeric_cols + object_cols + datetime_cols]\n",
    "print(\"Columns not accounted for: \" + \", \".join(other_cols))"
   ]
  },
  {
   "cell_type": "markdown",
   "metadata": {},
   "source": [
    "## Apply NULL/null/NA/NaN consistently\n",
    "\n",
    "Different datesources may result in different formats for null/missing values. It's typically a good idea to apply a consistent format. I'll do this by replacing 'NULL', 'null' and '' in character columns with `np.nan`."
   ]
  },
  {
   "cell_type": "code",
   "execution_count": 11,
   "metadata": {},
   "outputs": [],
   "source": [
    "df_train.loc[:,object_cols] = df_train.loc[:,object_cols] \\\n",
    "  .applymap(lambda x: np.nan if str(x).lower() in ['null',''] else x)"
   ]
  },
  {
   "cell_type": "code",
   "execution_count": 12,
   "metadata": {},
   "outputs": [],
   "source": [
    "target = 'loan_status'\n",
    "\n",
    "object_cols_x_target = [c for c in object_cols if c != target]\n",
    "\n",
    "cols_to_drop = datetime_cols + ['address']\n",
    "\n",
    "p = pipe([\n",
    "    # Add missing indicators for numeric features\n",
    "    (\"num_nan_ind\",mdi.AddMissingIndicator(variables=numeric_cols)),\n",
    "    # Add missing level for categorical features\n",
    "    (\"fill_cat_nas\",mdi.CategoricalVariableImputer(\n",
    "        fill_value = \"_MISSING_\", variables=object_cols_x_target)),\n",
    "    # Bin rare levels of categorical variables\n",
    "    (\"rare_cats\",ce.RareLabelCategoricalEncoder(\n",
    "        tol = 0.02, replace_with = \"_RARE_\", variables=object_cols_x_target)),\n",
    "    # Impute missing numeric variables with media\n",
    "    (\"rmmean\",mdi.MeanMedianImputer(imputation_method = 'median',variables=numeric_cols)),\n",
    "    # Drop dates and address columns\n",
    "    (\"drop_date\",fs.DropFeatures(features_to_drop=cols_to_drop))])"
   ]
  },
  {
   "cell_type": "code",
   "execution_count": 13,
   "metadata": {},
   "outputs": [],
   "source": [
    "df_train_prepped = p.fit_transform(df_train)"
   ]
  },
  {
   "cell_type": "code",
   "execution_count": 14,
   "metadata": {},
   "outputs": [
    {
     "data": {
      "text/html": [
       "<div>\n",
       "<style scoped>\n",
       "    .dataframe tbody tr th:only-of-type {\n",
       "        vertical-align: middle;\n",
       "    }\n",
       "\n",
       "    .dataframe tbody tr th {\n",
       "        vertical-align: top;\n",
       "    }\n",
       "\n",
       "    .dataframe thead th {\n",
       "        text-align: right;\n",
       "    }\n",
       "</style>\n",
       "<table border=\"1\" class=\"dataframe\">\n",
       "  <thead>\n",
       "    <tr style=\"text-align: right;\">\n",
       "      <th></th>\n",
       "      <th>loan_amnt</th>\n",
       "      <th>term</th>\n",
       "      <th>int_rate</th>\n",
       "      <th>installment</th>\n",
       "      <th>grade</th>\n",
       "      <th>sub_grade</th>\n",
       "      <th>emp_title</th>\n",
       "      <th>emp_length</th>\n",
       "      <th>home_ownership</th>\n",
       "      <th>annual_inc</th>\n",
       "      <th>verification_status</th>\n",
       "      <th>loan_status</th>\n",
       "      <th>purpose</th>\n",
       "      <th>title</th>\n",
       "      <th>dti</th>\n",
       "      <th>open_acc</th>\n",
       "      <th>pub_rec</th>\n",
       "      <th>revol_bal</th>\n",
       "      <th>revol_util</th>\n",
       "      <th>total_acc</th>\n",
       "      <th>initial_list_status</th>\n",
       "      <th>application_type</th>\n",
       "      <th>mort_acc</th>\n",
       "      <th>pub_rec_bankruptcies</th>\n",
       "      <th>mort_acc_na</th>\n",
       "      <th>pub_rec_bankruptcies_na</th>\n",
       "      <th>revol_util_na</th>\n",
       "    </tr>\n",
       "  </thead>\n",
       "  <tbody>\n",
       "    <tr>\n",
       "      <th>0</th>\n",
       "      <td>8000.0</td>\n",
       "      <td>36 months</td>\n",
       "      <td>16.20</td>\n",
       "      <td>282.05</td>\n",
       "      <td>C</td>\n",
       "      <td>C4</td>\n",
       "      <td>_RARE_</td>\n",
       "      <td>7 years</td>\n",
       "      <td>RENT</td>\n",
       "      <td>50000.0</td>\n",
       "      <td>Verified</td>\n",
       "      <td>Fully Paid</td>\n",
       "      <td>debt_consolidation</td>\n",
       "      <td>_RARE_</td>\n",
       "      <td>17.64</td>\n",
       "      <td>13.0</td>\n",
       "      <td>1.0</td>\n",
       "      <td>9034.0</td>\n",
       "      <td>68.4</td>\n",
       "      <td>30.0</td>\n",
       "      <td>w</td>\n",
       "      <td>INDIVIDUAL</td>\n",
       "      <td>0.0</td>\n",
       "      <td>1.0</td>\n",
       "      <td>0</td>\n",
       "      <td>0</td>\n",
       "      <td>0</td>\n",
       "    </tr>\n",
       "    <tr>\n",
       "      <th>1</th>\n",
       "      <td>9000.0</td>\n",
       "      <td>36 months</td>\n",
       "      <td>14.33</td>\n",
       "      <td>309.05</td>\n",
       "      <td>C</td>\n",
       "      <td>C1</td>\n",
       "      <td>_RARE_</td>\n",
       "      <td>4 years</td>\n",
       "      <td>RENT</td>\n",
       "      <td>40000.0</td>\n",
       "      <td>Not Verified</td>\n",
       "      <td>Fully Paid</td>\n",
       "      <td>credit_card</td>\n",
       "      <td>_RARE_</td>\n",
       "      <td>15.87</td>\n",
       "      <td>13.0</td>\n",
       "      <td>0.0</td>\n",
       "      <td>14593.0</td>\n",
       "      <td>71.2</td>\n",
       "      <td>30.0</td>\n",
       "      <td>f</td>\n",
       "      <td>INDIVIDUAL</td>\n",
       "      <td>0.0</td>\n",
       "      <td>0.0</td>\n",
       "      <td>0</td>\n",
       "      <td>0</td>\n",
       "      <td>0</td>\n",
       "    </tr>\n",
       "    <tr>\n",
       "      <th>2</th>\n",
       "      <td>12000.0</td>\n",
       "      <td>60 months</td>\n",
       "      <td>12.49</td>\n",
       "      <td>269.92</td>\n",
       "      <td>B</td>\n",
       "      <td>B5</td>\n",
       "      <td>_RARE_</td>\n",
       "      <td>4 years</td>\n",
       "      <td>MORTGAGE</td>\n",
       "      <td>73000.0</td>\n",
       "      <td>Not Verified</td>\n",
       "      <td>Fully Paid</td>\n",
       "      <td>credit_card</td>\n",
       "      <td>Credit card refinancing</td>\n",
       "      <td>28.63</td>\n",
       "      <td>11.0</td>\n",
       "      <td>0.0</td>\n",
       "      <td>18633.0</td>\n",
       "      <td>62.1</td>\n",
       "      <td>60.0</td>\n",
       "      <td>w</td>\n",
       "      <td>INDIVIDUAL</td>\n",
       "      <td>2.0</td>\n",
       "      <td>0.0</td>\n",
       "      <td>0</td>\n",
       "      <td>0</td>\n",
       "      <td>0</td>\n",
       "    </tr>\n",
       "    <tr>\n",
       "      <th>3</th>\n",
       "      <td>20000.0</td>\n",
       "      <td>36 months</td>\n",
       "      <td>6.62</td>\n",
       "      <td>614.08</td>\n",
       "      <td>A</td>\n",
       "      <td>A2</td>\n",
       "      <td>_RARE_</td>\n",
       "      <td>9 years</td>\n",
       "      <td>MORTGAGE</td>\n",
       "      <td>110000.0</td>\n",
       "      <td>Source Verified</td>\n",
       "      <td>Fully Paid</td>\n",
       "      <td>debt_consolidation</td>\n",
       "      <td>_RARE_</td>\n",
       "      <td>15.45</td>\n",
       "      <td>8.0</td>\n",
       "      <td>0.0</td>\n",
       "      <td>5275.0</td>\n",
       "      <td>38.2</td>\n",
       "      <td>24.0</td>\n",
       "      <td>f</td>\n",
       "      <td>INDIVIDUAL</td>\n",
       "      <td>2.0</td>\n",
       "      <td>0.0</td>\n",
       "      <td>0</td>\n",
       "      <td>0</td>\n",
       "      <td>0</td>\n",
       "    </tr>\n",
       "    <tr>\n",
       "      <th>4</th>\n",
       "      <td>13600.0</td>\n",
       "      <td>36 months</td>\n",
       "      <td>7.29</td>\n",
       "      <td>421.74</td>\n",
       "      <td>A</td>\n",
       "      <td>A4</td>\n",
       "      <td>_RARE_</td>\n",
       "      <td>7 years</td>\n",
       "      <td>MORTGAGE</td>\n",
       "      <td>115000.0</td>\n",
       "      <td>Source Verified</td>\n",
       "      <td>Fully Paid</td>\n",
       "      <td>home_improvement</td>\n",
       "      <td>_RARE_</td>\n",
       "      <td>6.84</td>\n",
       "      <td>9.0</td>\n",
       "      <td>0.0</td>\n",
       "      <td>191.0</td>\n",
       "      <td>0.8</td>\n",
       "      <td>17.0</td>\n",
       "      <td>f</td>\n",
       "      <td>INDIVIDUAL</td>\n",
       "      <td>1.0</td>\n",
       "      <td>0.0</td>\n",
       "      <td>1</td>\n",
       "      <td>0</td>\n",
       "      <td>0</td>\n",
       "    </tr>\n",
       "  </tbody>\n",
       "</table>\n",
       "</div>"
      ],
      "text/plain": [
       "   loan_amnt        term  int_rate  installment grade sub_grade emp_title  \\\n",
       "0     8000.0   36 months     16.20       282.05     C        C4    _RARE_   \n",
       "1     9000.0   36 months     14.33       309.05     C        C1    _RARE_   \n",
       "2    12000.0   60 months     12.49       269.92     B        B5    _RARE_   \n",
       "3    20000.0   36 months      6.62       614.08     A        A2    _RARE_   \n",
       "4    13600.0   36 months      7.29       421.74     A        A4    _RARE_   \n",
       "\n",
       "  emp_length home_ownership  annual_inc verification_status loan_status  \\\n",
       "0    7 years           RENT     50000.0            Verified  Fully Paid   \n",
       "1    4 years           RENT     40000.0        Not Verified  Fully Paid   \n",
       "2    4 years       MORTGAGE     73000.0        Not Verified  Fully Paid   \n",
       "3    9 years       MORTGAGE    110000.0     Source Verified  Fully Paid   \n",
       "4    7 years       MORTGAGE    115000.0     Source Verified  Fully Paid   \n",
       "\n",
       "              purpose                    title    dti  open_acc  pub_rec  \\\n",
       "0  debt_consolidation                   _RARE_  17.64      13.0      1.0   \n",
       "1         credit_card                   _RARE_  15.87      13.0      0.0   \n",
       "2         credit_card  Credit card refinancing  28.63      11.0      0.0   \n",
       "3  debt_consolidation                   _RARE_  15.45       8.0      0.0   \n",
       "4    home_improvement                   _RARE_   6.84       9.0      0.0   \n",
       "\n",
       "   revol_bal  revol_util  total_acc initial_list_status application_type  \\\n",
       "0     9034.0        68.4       30.0                   w       INDIVIDUAL   \n",
       "1    14593.0        71.2       30.0                   f       INDIVIDUAL   \n",
       "2    18633.0        62.1       60.0                   w       INDIVIDUAL   \n",
       "3     5275.0        38.2       24.0                   f       INDIVIDUAL   \n",
       "4      191.0         0.8       17.0                   f       INDIVIDUAL   \n",
       "\n",
       "   mort_acc  pub_rec_bankruptcies  mort_acc_na  pub_rec_bankruptcies_na  \\\n",
       "0       0.0                   1.0            0                        0   \n",
       "1       0.0                   0.0            0                        0   \n",
       "2       2.0                   0.0            0                        0   \n",
       "3       2.0                   0.0            0                        0   \n",
       "4       1.0                   0.0            1                        0   \n",
       "\n",
       "   revol_util_na  \n",
       "0              0  \n",
       "1              0  \n",
       "2              0  \n",
       "3              0  \n",
       "4              0  "
      ]
     },
     "execution_count": 14,
     "metadata": {},
     "output_type": "execute_result"
    }
   ],
   "source": [
    "df_train_prepped.head()"
   ]
  },
  {
   "cell_type": "code",
   "execution_count": 15,
   "metadata": {},
   "outputs": [
    {
     "name": "stdout",
     "output_type": "stream",
     "text": [
      "Checking whether there is an H2O instance running at http://localhost:54321 ..... not found.\n",
      "Attempting to start a local H2O server...\n",
      "; Java HotSpot(TM) 64-Bit Server VM (build 14.0.1+7, mixed mode, sharing)\n",
      "  Starting server from C:\\Users\\grego\\Anaconda3\\lib\\site-packages\\h2o\\backend\\bin\\h2o.jar\n",
      "  Ice root: C:\\Users\\grego\\AppData\\Local\\Temp\\tmpw4huq5i4\n",
      "  JVM stdout: C:\\Users\\grego\\AppData\\Local\\Temp\\tmpw4huq5i4\\h2o_grego_started_from_python.out\n",
      "  JVM stderr: C:\\Users\\grego\\AppData\\Local\\Temp\\tmpw4huq5i4\\h2o_grego_started_from_python.err\n",
      "  Server is running at http://127.0.0.1:54321\n",
      "Connecting to H2O server at http://127.0.0.1:54321 ... successful.\n"
     ]
    },
    {
     "data": {
      "text/html": [
       "<div style=\"overflow:auto\"><table style=\"width:50%\"><tr><td>H2O_cluster_uptime:</td>\n",
       "<td>01 secs</td></tr>\n",
       "<tr><td>H2O_cluster_timezone:</td>\n",
       "<td>America/Denver</td></tr>\n",
       "<tr><td>H2O_data_parsing_timezone:</td>\n",
       "<td>UTC</td></tr>\n",
       "<tr><td>H2O_cluster_version:</td>\n",
       "<td>3.32.0.1</td></tr>\n",
       "<tr><td>H2O_cluster_version_age:</td>\n",
       "<td>2 months and 3 days </td></tr>\n",
       "<tr><td>H2O_cluster_name:</td>\n",
       "<td>H2O_from_python_grego_54uadn</td></tr>\n",
       "<tr><td>H2O_cluster_total_nodes:</td>\n",
       "<td>1</td></tr>\n",
       "<tr><td>H2O_cluster_free_memory:</td>\n",
       "<td>3.947 Gb</td></tr>\n",
       "<tr><td>H2O_cluster_total_cores:</td>\n",
       "<td>8</td></tr>\n",
       "<tr><td>H2O_cluster_allowed_cores:</td>\n",
       "<td>8</td></tr>\n",
       "<tr><td>H2O_cluster_status:</td>\n",
       "<td>accepting new members, healthy</td></tr>\n",
       "<tr><td>H2O_connection_url:</td>\n",
       "<td>http://127.0.0.1:54321</td></tr>\n",
       "<tr><td>H2O_connection_proxy:</td>\n",
       "<td>{\"http\": null, \"https\": null}</td></tr>\n",
       "<tr><td>H2O_internal_security:</td>\n",
       "<td>False</td></tr>\n",
       "<tr><td>H2O_API_Extensions:</td>\n",
       "<td>Amazon S3, Algos, AutoML, Core V3, TargetEncoder, Core V4</td></tr>\n",
       "<tr><td>Python_version:</td>\n",
       "<td>3.7.9 final</td></tr></table></div>"
      ],
      "text/plain": [
       "--------------------------  ---------------------------------------------------------\n",
       "H2O_cluster_uptime:         01 secs\n",
       "H2O_cluster_timezone:       America/Denver\n",
       "H2O_data_parsing_timezone:  UTC\n",
       "H2O_cluster_version:        3.32.0.1\n",
       "H2O_cluster_version_age:    2 months and 3 days\n",
       "H2O_cluster_name:           H2O_from_python_grego_54uadn\n",
       "H2O_cluster_total_nodes:    1\n",
       "H2O_cluster_free_memory:    3.947 Gb\n",
       "H2O_cluster_total_cores:    8\n",
       "H2O_cluster_allowed_cores:  8\n",
       "H2O_cluster_status:         accepting new members, healthy\n",
       "H2O_connection_url:         http://127.0.0.1:54321\n",
       "H2O_connection_proxy:       {\"http\": null, \"https\": null}\n",
       "H2O_internal_security:      False\n",
       "H2O_API_Extensions:         Amazon S3, Algos, AutoML, Core V3, TargetEncoder, Core V4\n",
       "Python_version:             3.7.9 final\n",
       "--------------------------  ---------------------------------------------------------"
      ]
     },
     "metadata": {},
     "output_type": "display_data"
    }
   ],
   "source": [
    "h2o.init()"
   ]
  },
  {
   "cell_type": "code",
   "execution_count": 16,
   "metadata": {},
   "outputs": [
    {
     "name": "stdout",
     "output_type": "stream",
     "text": [
      "Parse progress: |█████████████████████████████████████████████████████████| 100%\n"
     ]
    }
   ],
   "source": [
    "h2o_train = h2o.H2OFrame(df_train_prepped)\n",
    "h2o_train['loan_status'] = h2o_train['loan_status'].asfactor()"
   ]
  },
  {
   "cell_type": "code",
   "execution_count": 17,
   "metadata": {},
   "outputs": [],
   "source": [
    "predictors = df_train_prepped.columns.to_list()\n",
    "predictors.remove('loan_status')"
   ]
  },
  {
   "cell_type": "code",
   "execution_count": 18,
   "metadata": {},
   "outputs": [
    {
     "name": "stdout",
     "output_type": "stream",
     "text": [
      "gbm Grid Build progress: |████████████████████████████████████████████████| 100%\n"
     ]
    }
   ],
   "source": [
    "# Set up gbm parameter grid and fit in h2o\n",
    "hyper_params = {\n",
    "    'ntrees': [100,200],\n",
    "    'max_depth': [2,4,6],\n",
    "    'learn_rate': [0.05, 0.1]\n",
    "}\n",
    "\n",
    "gbm = H2OGradientBoostingEstimator(\n",
    "    distribution='bernoulli',\n",
    "    seed = 1)\n",
    "\n",
    "h2o_train1, h2o_train2 = h2o_train.split_frame(\n",
    "    ratios=[0.8],\n",
    "    seed = 1)\n",
    "\n",
    "xgb_grid = H2OGridSearch(\n",
    "    model = gbm,\n",
    "    hyper_params = hyper_params\n",
    ")\n",
    "\n",
    "xgb_grid.train(\n",
    "    training_frame = h2o_train1,\n",
    "    x = predictors,\n",
    "    y = 'loan_status',\n",
    "    validation_frame = h2o_train2)"
   ]
  },
  {
   "cell_type": "code",
   "execution_count": 19,
   "metadata": {},
   "outputs": [],
   "source": [
    "grid_results = xgb_grid.get_grid(\n",
    "    sort_by=\"logloss\")"
   ]
  },
  {
   "cell_type": "code",
   "execution_count": 20,
   "metadata": {},
   "outputs": [],
   "source": [
    "best_params = grid_results.models[0].actual_params\n",
    "best_params = dict((k,best_params[k]) for k in ('ntrees','max_depth','learn_rate'))"
   ]
  },
  {
   "cell_type": "code",
   "execution_count": 21,
   "metadata": {},
   "outputs": [
    {
     "data": {
      "text/plain": [
       "{'ntrees': 200, 'max_depth': 4, 'learn_rate': 0.1}"
      ]
     },
     "execution_count": 21,
     "metadata": {},
     "output_type": "execute_result"
    }
   ],
   "source": [
    "best_params"
   ]
  },
  {
   "cell_type": "code",
   "execution_count": 22,
   "metadata": {},
   "outputs": [
    {
     "name": "stdout",
     "output_type": "stream",
     "text": [
      "Parse progress: |█████████████████████████████████████████████████████████| 100%\n"
     ]
    }
   ],
   "source": [
    "df_test_prepped = p.transform(df_test)\n",
    "\n",
    "h2o_test = h2o.H2OFrame(df_test_prepped)\n",
    "h2o_test['loan_status'] = h2o_test['loan_status'].asfactor()"
   ]
  },
  {
   "cell_type": "code",
   "execution_count": 23,
   "metadata": {},
   "outputs": [],
   "source": [
    "gbm = H2OGradientBoostingEstimator(\n",
    "    distribution='bernoulli',\n",
    "    model_id = 'final_gbm',\n",
    "    **best_params,\n",
    "    seed = 1)"
   ]
  },
  {
   "cell_type": "code",
   "execution_count": 24,
   "metadata": {},
   "outputs": [
    {
     "name": "stdout",
     "output_type": "stream",
     "text": [
      "gbm Model Build progress: |███████████████████████████████████████████████| 100%\n"
     ]
    }
   ],
   "source": [
    "gbm.train(\n",
    "training_frame = h2o_train,\n",
    "    x = predictors,\n",
    "    y = 'loan_status',\n",
    "    validation_frame = h2o_test)"
   ]
  },
  {
   "cell_type": "code",
   "execution_count": 25,
   "metadata": {},
   "outputs": [],
   "source": [
    "#path = os.getcwd() + '/lendingclub-app/src/main/resources/'\n",
    "#if not os.path.exists(path):\n",
    "#    os.makedirs(path)\n",
    "#gbm.download_mojo(path=path, get_genmodel_jar=False)"
   ]
  },
  {
   "cell_type": "code",
   "execution_count": 26,
   "metadata": {},
   "outputs": [
    {
     "name": "stdout",
     "output_type": "stream",
     "text": [
      "gbm prediction progress: |████████████████████████████████████████████████| 100%\n"
     ]
    },
    {
     "data": {
      "text/html": [
       "<table>\n",
       "<thead>\n",
       "<tr><th>predict    </th><th style=\"text-align: right;\">  Charged Off</th><th style=\"text-align: right;\">  Fully Paid</th></tr>\n",
       "</thead>\n",
       "<tbody>\n",
       "<tr><td>Fully Paid </td><td style=\"text-align: right;\">    0.195452 </td><td style=\"text-align: right;\">    0.804548</td></tr>\n",
       "<tr><td>Fully Paid </td><td style=\"text-align: right;\">    0.109756 </td><td style=\"text-align: right;\">    0.890244</td></tr>\n",
       "<tr><td>Fully Paid </td><td style=\"text-align: right;\">    0.146885 </td><td style=\"text-align: right;\">    0.853115</td></tr>\n",
       "<tr><td>Fully Paid </td><td style=\"text-align: right;\">    0.534436 </td><td style=\"text-align: right;\">    0.465564</td></tr>\n",
       "<tr><td>Fully Paid </td><td style=\"text-align: right;\">    0.0735955</td><td style=\"text-align: right;\">    0.926404</td></tr>\n",
       "<tr><td>Fully Paid </td><td style=\"text-align: right;\">    0.12821  </td><td style=\"text-align: right;\">    0.87179 </td></tr>\n",
       "<tr><td>Charged Off</td><td style=\"text-align: right;\">    0.576497 </td><td style=\"text-align: right;\">    0.423503</td></tr>\n",
       "<tr><td>Fully Paid </td><td style=\"text-align: right;\">    0.0650109</td><td style=\"text-align: right;\">    0.934989</td></tr>\n",
       "<tr><td>Fully Paid </td><td style=\"text-align: right;\">    0.151643 </td><td style=\"text-align: right;\">    0.848357</td></tr>\n",
       "<tr><td>Fully Paid </td><td style=\"text-align: right;\">    0.0378637</td><td style=\"text-align: right;\">    0.962136</td></tr>\n",
       "</tbody>\n",
       "</table>"
      ]
     },
     "metadata": {},
     "output_type": "display_data"
    },
    {
     "data": {
      "text/plain": []
     },
     "execution_count": 26,
     "metadata": {},
     "output_type": "execute_result"
    }
   ],
   "source": [
    "gbm.predict(h2o_test[0:10,:])"
   ]
  },
  {
   "cell_type": "code",
   "execution_count": 29,
   "metadata": {},
   "outputs": [],
   "source": [
    "df_test.head(10).to_pickle(path = 'test_cases.pkl')"
   ]
  },
  {
   "cell_type": "code",
   "execution_count": 31,
   "metadata": {},
   "outputs": [],
   "source": [
    "with open('pipeline.pkl','wb') as f:\n",
    "    pickle.dump(p,f)"
   ]
  },
  {
   "cell_type": "code",
   "execution_count": 30,
   "metadata": {},
   "outputs": [],
   "source": [
    "h2o.shutdown()"
   ]
  }
 ],
 "metadata": {
  "kernelspec": {
   "display_name": "Python 3",
   "language": "python",
   "name": "python3"
  },
  "language_info": {
   "codemirror_mode": {
    "name": "ipython",
    "version": 3
   },
   "file_extension": ".py",
   "mimetype": "text/x-python",
   "name": "python",
   "nbconvert_exporter": "python",
   "pygments_lexer": "ipython3",
   "version": "3.7.9"
  }
 },
 "nbformat": 4,
 "nbformat_minor": 4
}